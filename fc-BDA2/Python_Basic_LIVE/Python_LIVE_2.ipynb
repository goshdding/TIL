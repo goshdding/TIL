{
 "cells": [
  {
   "cell_type": "code",
   "execution_count": 1,
   "id": "baecb4e5",
   "metadata": {},
   "outputs": [
    {
     "name": "stdout",
     "output_type": "stream",
     "text": [
      "Requirement already satisfied: numpy in c:\\users\\82105\\anaconda3\\envs\\fc_bda\\lib\\site-packages (1.20.1)\n",
      "Note: you may need to restart the kernel to use updated packages.\n"
     ]
    }
   ],
   "source": [
    "pip install numpy"
   ]
  },
  {
   "cell_type": "code",
   "execution_count": 2,
   "id": "20c475d4",
   "metadata": {},
   "outputs": [
    {
     "name": "stdout",
     "output_type": "stream",
     "text": [
      "Requirement already satisfied: pandas in c:\\users\\82105\\anaconda3\\envs\\fc_bda\\lib\\site-packages (1.2.4)\n",
      "Requirement already satisfied: numpy>=1.16.5 in c:\\users\\82105\\anaconda3\\envs\\fc_bda\\lib\\site-packages (from pandas) (1.20.1)\n",
      "Requirement already satisfied: pytz>=2017.3 in c:\\users\\82105\\anaconda3\\envs\\fc_bda\\lib\\site-packages (from pandas) (2021.1)\n",
      "Requirement already satisfied: python-dateutil>=2.7.3 in c:\\users\\82105\\anaconda3\\envs\\fc_bda\\lib\\site-packages (from pandas) (2.8.1)\n",
      "Requirement already satisfied: six>=1.5 in c:\\users\\82105\\anaconda3\\envs\\fc_bda\\lib\\site-packages (from python-dateutil>=2.7.3->pandas) (1.15.0)\n"
     ]
    }
   ],
   "source": [
    "!pip install pandas"
   ]
  },
  {
   "cell_type": "markdown",
   "id": "5f0f2138",
   "metadata": {},
   "source": [
    "# Numpy\n",
    "\n",
    "## 과학 계산과 다차원 배열 계산을 위한 라이브러리\n",
    "\n",
    "- 행렬이나 일반적으로 대규모 다차월 배열을 쉽게 처리\n",
    "- 딥러닝과 데이터 분석에서 가장 많이 사용되는 라이브러리\n"
   ]
  },
  {
   "cell_type": "markdown",
   "id": "a01a6441",
   "metadata": {},
   "source": [
    "## Numpy array 배열\n",
    "\n",
    "### Numpy array 기초\n",
    "\n",
    "- import : 특정 모듈을 작성하는 Python 코드에서 사용할 것을 명시\n",
    "- 배열 : 같은 타입의 데이터로 이루어진 유한 집합\n",
    "\n",
    "-  `numpy.array()` 을 사용하여 배열 생성"
   ]
  },
  {
   "cell_type": "code",
   "execution_count": 18,
   "id": "576e1ca4",
   "metadata": {},
   "outputs": [
    {
     "name": "stdout",
     "output_type": "stream",
     "text": [
      "[1, 2, 3, 4, 5]\n",
      "[1 2 3 4 5]\n",
      "[1, 2, 3, 4, 5, 1, 2, 3, 4, 5, 1, 2, 3, 4, 5]\n",
      "[ 3  6  9 12 15]\n"
     ]
    }
   ],
   "source": [
    "import numpy as np\n",
    "\n",
    "a = [1, 2, 3, 4, 5]\n",
    "b = np.array(a)\n",
    "\n",
    "print(a)\n",
    "print(b)\n",
    "\n",
    "print(a*3) # 리스트, 튜플 등은 스키마\n",
    "print(b*3) # 넘파이 배열(array)는 벡터"
   ]
  },
  {
   "cell_type": "markdown",
   "id": "0c9dd20c",
   "metadata": {},
   "source": [
    "- `'numpyarray'.copy()` : 원래의 arry와 동일한 데이터를 가진 별개의 배열 복제."
   ]
  },
  {
   "cell_type": "code",
   "execution_count": 19,
   "id": "f938cc93",
   "metadata": {},
   "outputs": [
    {
     "name": "stdout",
     "output_type": "stream",
     "text": [
      "[100   2   3   4   5]\n",
      "[100   2   3   4   5]\n",
      "[1 2 3 4 5]\n"
     ]
    }
   ],
   "source": [
    "a = np.array(a) \n",
    "b = a # 똑같은 array를 할당. 즉, 데이터가 변하면 원본 데이터도 변함.\n",
    "c = b.copy() # numpyarray.copy() == 원래의 array와는 별개의 배열로 복제. 원본 데이터와 구분됨.\n",
    "b[0] = 100\n",
    "\n",
    "print(a) # b와 동일하게 index0이 100으로 변화\n",
    "print(b)\n",
    "print(c)"
   ]
  },
  {
   "cell_type": "markdown",
   "id": "6c6360d1",
   "metadata": {},
   "source": [
    "### Numpy array 차원\n",
    "\n",
    "- `numpy.array(배열, dtype=자료형)`을 통해 자료형을 지정하여 배열 생성 가능"
   ]
  },
  {
   "cell_type": "code",
   "execution_count": 28,
   "id": "6a742b29",
   "metadata": {},
   "outputs": [
    {
     "name": "stdout",
     "output_type": "stream",
     "text": [
      "[100   2   3   4   5] int32\n",
      "[100.   2.   3.   4.   5.] float64\n",
      "[ True  True  True  True  True] bool\n"
     ]
    }
   ],
   "source": [
    "a1 = np.array(a, dtype=int)\n",
    "a2 = np.array(a, dtype=float)\n",
    "a3 = np.array(a, dtype=bool)\n",
    "\n",
    "print(a1, a1.dtype)\n",
    "print(a2, a2.dtype)\n",
    "print(a3, a3.dtype)"
   ]
  },
  {
   "cell_type": "markdown",
   "id": "c2930a46",
   "metadata": {},
   "source": [
    "### 다차원 배열"
   ]
  },
  {
   "cell_type": "code",
   "execution_count": 35,
   "id": "03f36238",
   "metadata": {},
   "outputs": [
    {
     "name": "stdout",
     "output_type": "stream",
     "text": [
      "[[1 2 3]\n",
      " [4 5 6]\n",
      " [7 8 9]]\n",
      "[[1 2]\n",
      " [3 4]\n",
      " [5 6]\n",
      " [7 8]]\n",
      "[1 2 3]\n"
     ]
    }
   ],
   "source": [
    "a = np.array([[1, 2, 3], [4, 5, 6], [7, 8, 9]]) # 3 x 3\n",
    "b = np.array([[1, 2,], [3, 4,], [5, 6], [7, 8]]) # 4 x 2\n",
    "\n",
    "print(a)\n",
    "print(b)\n",
    "\n",
    "print(a[0])"
   ]
  },
  {
   "cell_type": "markdown",
   "id": "f33d9743",
   "metadata": {},
   "source": [
    "- `array.ndim` : dimension, 배열의 차원\n",
    "- `array.shape` : shape, 배열의 형태"
   ]
  },
  {
   "cell_type": "code",
   "execution_count": 43,
   "id": "6dec0abf",
   "metadata": {},
   "outputs": [
    {
     "name": "stdout",
     "output_type": "stream",
     "text": [
      "2\n",
      "(3, 3)\n",
      "2\n",
      "(4, 2)\n",
      "[[[1 2]\n",
      "  [3 4]]\n",
      "\n",
      " [[5 6]\n",
      "  [7 8]]]\n",
      "3\n"
     ]
    }
   ],
   "source": [
    "print(a.ndim)\n",
    "print(a.shape)\n",
    "\n",
    "print(b.ndim)\n",
    "print(b.shape)\n",
    "\n",
    "c = np.array([[[1, 2], [3, 4]],[[5, 6], [7, 8]]])\n",
    "print(c)\n",
    "print(c.ndim)"
   ]
  },
  {
   "cell_type": "markdown",
   "id": "bbd6972f",
   "metadata": {},
   "source": [
    "### 다양한 Numpy array 생성\n",
    "- `numpy.ones()`\n",
    "- `numpy.zeros()`"
   ]
  },
  {
   "cell_type": "code",
   "execution_count": 48,
   "id": "919bfd10",
   "metadata": {},
   "outputs": [
    {
     "name": "stdout",
     "output_type": "stream",
     "text": [
      "[[1 1]\n",
      " [1 1]]\n",
      "[[0 0 0]\n",
      " [0 0 0]\n",
      " [0 0 0]]\n",
      "[[1. 1.]\n",
      " [1. 1.]]\n",
      "[[0. 0. 0.]\n",
      " [0. 0. 0.]\n",
      " [0. 0. 0.]]\n"
     ]
    }
   ],
   "source": [
    "a = np.ones((2,2), dtype=int)\n",
    "b = np.zeros((3,3), dtype=int)\n",
    "\n",
    "# ones_like(), zeros_like() : 파라미터로 받는 배열과 동일한 dimension, shape으로 배열 생성\n",
    "c = np.ones_like(a, dtype=float) \n",
    "d = np.zeros_like(b, dtype=float)\n",
    "\n",
    "print(a)\n",
    "print(b)\n",
    "print(c)\n",
    "print(d)"
   ]
  },
  {
   "cell_type": "markdown",
   "id": "72447e52",
   "metadata": {},
   "source": [
    "---\n",
    "--------\n",
    "---    \n",
    "## Numpy 데이터/난수 생성\n",
    "\n",
    "### 데이터 생성 함수\n",
    "- `numpy.linspace()`\n",
    "- `numpy.arange()`\n",
    "- `numpy.logspace()`"
   ]
  },
  {
   "cell_type": "markdown",
   "id": "085f81d7",
   "metadata": {},
   "source": [
    "`numpy.linspace(start, end, num=개수, endpoint=True, retstep=False, dtype=자료형)`"
   ]
  },
  {
   "cell_type": "code",
   "execution_count": 58,
   "id": "d3c86003",
   "metadata": {},
   "outputs": [
    {
     "name": "stdout",
     "output_type": "stream",
     "text": [
      "[ 0.   2.5  5.   7.5 10. ]\n",
      "[0. 2. 4. 6. 8.]\n",
      "(array([ 0. ,  2.5,  5. ,  7.5, 10. ]), 2.5)\n",
      "(array([ 0,  2,  5,  7, 10]), 2.5)\n"
     ]
    }
   ],
   "source": [
    "a = np.linspace(0, 10, num=5)\n",
    "b = np.linspace(0, 10, num=5, endpoint=False)\n",
    "c = np.linspace(0, 10, num=5, endpoint=True, retstep=True)\n",
    "d = np.linspace(0, 10, num=5, endpoint=True, retstep=True, dtype=int)\n",
    "\n",
    "print(a)\n",
    "print(b)\n",
    "print(c)\n",
    "print(d)"
   ]
  },
  {
   "cell_type": "markdown",
   "id": "df0f2754",
   "metadata": {},
   "source": [
    "- `numpy.arange(start, end, step=간격, dtype=자료형)`"
   ]
  },
  {
   "cell_type": "code",
   "execution_count": 62,
   "id": "17127cbc",
   "metadata": {},
   "outputs": [
    {
     "name": "stdout",
     "output_type": "stream",
     "text": [
      "[0 1 2 3 4 5 6 7 8 9]\n",
      "[0 2 4 6 8]\n",
      "[0. 2. 4. 6. 8.]\n",
      "[0 2 4 6 8]\n"
     ]
    }
   ],
   "source": [
    "a = np.arange(0, 10)\n",
    "b = np.arange(0, 10, step=2)\n",
    "c = np.arange(0, 10, step=2, dtype=float)\n",
    "d = np.arange(10, step=2) # 시작 생략 가능, 생략시 0부터 시작\n",
    "\n",
    "print(a)\n",
    "print(b)\n",
    "print(c)\n",
    "print(d)"
   ]
  },
  {
   "cell_type": "markdown",
   "id": "8be5cc09",
   "metadata": {},
   "source": [
    "`numpy.logspace(start, end, num=개수, endpoint=True, base=10.0, dtype=자료형)`"
   ]
  },
  {
   "cell_type": "code",
   "execution_count": 64,
   "id": "4dfd014d",
   "metadata": {},
   "outputs": [
    {
     "name": "stdout",
     "output_type": "stream",
     "text": [
      "[   1    5   32  181 1024]\n"
     ]
    }
   ],
   "source": [
    "alog = np.logspace(0, 10, num=5, endpoint=True, base=2.0, dtype=int)\n",
    "print(alog)"
   ]
  },
  {
   "cell_type": "code",
   "execution_count": 73,
   "id": "99c6532a",
   "metadata": {},
   "outputs": [
    {
     "name": "stdout",
     "output_type": "stream",
     "text": [
      "[ 10000.  40000.  70000. 100000.]\n"
     ]
    },
    {
     "data": {
      "image/png": "[encoded data removed]",
      "text/plain": [
       "<Figure size 432x288 with 1 Axes>"
      ]
     },
     "metadata": {
      "needs_background": "light"
     },
     "output_type": "display_data"
    }
   ],
   "source": [
    "import matplotlib.pyplot as plt # linspace의 데이터 추출 시각화\n",
    "import numpy as np\n",
    "\n",
    "age_30=10000\n",
    "age_60=100000\n",
    "a = np.linspace(age_30, age_60, num = 4)\n",
    "\n",
    "print(a)\n",
    "\n",
    "plt.plot(a, 'o')\n",
    "plt.show()"
   ]
  },
  {
   "cell_type": "markdown",
   "id": "e927a69d",
   "metadata": {},
   "source": [
    "### 난수 생성 함수\n",
    "\n",
    "- `numpy.random.normal`\n",
    "- `numpy.random.rand`\n",
    "- `numpy.random.randn`\n",
    "- `numpy.random.randint`\n",
    "- `numpy.random.random`"
   ]
  },
  {
   "cell_type": "markdown",
   "id": "94a50192",
   "metadata": {},
   "source": [
    "**`numpy.random.normal(loc=0, scale=1, size=None)`**\n",
    "- loc(정규 분포의 평균), scales (표준편차), size (샘플의 사이즈)"
   ]
  },
  {
   "cell_type": "code",
   "execution_count": 91,
   "id": "2718bf40",
   "metadata": {},
   "outputs": [
    {
     "data": {
      "image/png": "[encoded data removed]",
      "text/plain": [
       "<Figure size 432x288 with 1 Axes>"
      ]
     },
     "metadata": {
      "needs_background": "light"
     },
     "output_type": "display_data"
    }
   ],
   "source": [
    "import numpy as np\n",
    "import matplotlib.pyplot as plt\n",
    "\n",
    "mean = 0\n",
    "std = 1\n",
    "\n",
    "a = np.random.normal(mean, std, 1000)\n",
    "\n",
    "plt.hist(a, bins=100)\n",
    "plt.show()"
   ]
  },
  {
   "cell_type": "markdown",
   "id": "8daa2284",
   "metadata": {},
   "source": [
    "**`numpy.random.rand(d0, d1, …, dn)`**    \n",
    "   **`numpy.random.random(d0, d1, …, dn)`**\n",
    "- Shape이 (d0, d1, …, dn) 인 배열로 생성, 난수로 초기화\n",
    "- 난수: (0,1)의 균등분포 (Uniform distribution) 형상으로 표본 추출\n",
    "\n",
    "**`numpy.random.randint(low, high=None, size=None, dtype=‘I’)`**\n",
    "- 지정된 size로 배열을 만들고, low~high 범위에서 정수로 이루어진 난수 추출 "
   ]
  },
  {
   "cell_type": "markdown",
   "id": "d85bc903",
   "metadata": {},
   "source": [
    "### 시드 SEED\n",
    "- 컴퓨터가 생성하는 난수는 엄격한 의미에서 난수는 아님\n",
    "- 컴퓨터는 특정한 숫자(범위)안에서 마치 난수처럼 보이는 수열을 생성 == 시드 SEED\n",
    "- 시드 생성 함수\n",
    "`numpy.random.seed(value)`"
   ]
  },
  {
   "cell_type": "markdown",
   "id": "c022709f",
   "metadata": {},
   "source": [
    "`numpy.random.choice(a, size=None, replace=True, p=None)`\n",
    "- 주어진 1차원의 numpy 배열로부터 랜덤하게 샘플링"
   ]
  },
  {
   "cell_type": "code",
   "execution_count": 109,
   "id": "19699e79",
   "metadata": {},
   "outputs": [
    {
     "data": {
      "text/plain": [
       "8"
      ]
     },
     "execution_count": 109,
     "metadata": {},
     "output_type": "execute_result"
    }
   ],
   "source": [
    "np.random.choice(99, size=None, replace=True, p=None)"
   ]
  },
  {
   "cell_type": "markdown",
   "id": "2c689152",
   "metadata": {},
   "source": [
    "### 복권 번호 맞추기 예제"
   ]
  },
  {
   "cell_type": "code",
   "execution_count": 117,
   "id": "994f5db9",
   "metadata": {},
   "outputs": [
    {
     "name": "stdout",
     "output_type": "stream",
     "text": [
      "복권번호를 입력하시오(0~99): 12\n",
      "당첨번호는 29 입니다.\n",
      "상금은 50만원입니다.\n"
     ]
    }
   ],
   "source": [
    "import random\n",
    "\n",
    "lotto = np.random.choice(99)\n",
    "number = int(input(\"복권번호를 입력하시오(0~99): \"))\n",
    "print(\"당첨번호는\", lotto, \"입니다.\")\n",
    "\n",
    "a1 = lotto % 10\n",
    "a2 = lotto // 10\n",
    "b1 = number % 10\n",
    "b2 = number // 10\n",
    "\n",
    "if (a1 == b1 and a1 == b2) or (a2 == b1 and a2 == b2):\n",
    "    print(\"상금은 100만원입니다.\")\n",
    "elif a1 == b1 or a1 == b2 or a2 == b1 or a2 == b2:\n",
    "    print(\"상금은 50만원입니다.\")\n",
    "else: \n",
    "    print(\"상금은 없습니다.\")"
   ]
  },
  {
   "cell_type": "markdown",
   "id": "8eba4a05",
   "metadata": {},
   "source": [
    "---\n",
    "---\n",
    "## Numpy 인덱싱, 슬라이싱"
   ]
  },
  {
   "cell_type": "code",
   "execution_count": 123,
   "id": "f1f76e97",
   "metadata": {},
   "outputs": [
    {
     "name": "stdout",
     "output_type": "stream",
     "text": [
      "[ 0  1  2  3  4  5  6  7  8  9 10 11 12 13 14]\n"
     ]
    }
   ],
   "source": [
    "import numpy as np\n",
    "\n",
    "a = np.arange(15)\n",
    "print(a[:]) # == print(a)"
   ]
  },
  {
   "cell_type": "code",
   "execution_count": 131,
   "id": "88611d93",
   "metadata": {},
   "outputs": [
    {
     "name": "stdout",
     "output_type": "stream",
     "text": [
      "[[ 0  1  2]\n",
      " [ 3  4  5]\n",
      " [ 6  7  8]\n",
      " [ 9 10 11]\n",
      " [12 13 14]]\n",
      "\n",
      "[[3 4 5]\n",
      " [6 7 8]]\n",
      "\n",
      "[[12 13 14]\n",
      " [ 9 10 11]]\n"
     ]
    }
   ],
   "source": [
    "a = np.arange(15).reshape(5,3)\n",
    "print(a)\n",
    "print(\"\")\n",
    "print(a[[1, 2]]) # == print(a[1], a[2])\n",
    "print(\"\")\n",
    "print(a[[-1,-2]])"
   ]
  },
  {
   "cell_type": "code",
   "execution_count": 133,
   "id": "c125f25d",
   "metadata": {},
   "outputs": [
    {
     "name": "stdout",
     "output_type": "stream",
     "text": [
      "[3 4 5] [6 7 8]\n"
     ]
    }
   ],
   "source": [
    "print(a[1], a[2])"
   ]
  },
  {
   "cell_type": "markdown",
   "id": "5099f1af",
   "metadata": {},
   "source": [
    "### Boolean 인덱싱 : 논리값(T/F)을 사용한 인덱싱"
   ]
  },
  {
   "cell_type": "code",
   "execution_count": 155,
   "id": "8675cf91",
   "metadata": {},
   "outputs": [
    {
     "name": "stdout",
     "output_type": "stream",
     "text": [
      "[[-0.67979034  0.9303576  -0.84041305 -1.35729139]\n",
      " [-1.10470786 -0.67857822 -0.83661212  0.6394455 ]\n",
      " [ 0.3321006  -1.15732902 -0.88485624 -0.44639928]\n",
      " [ 0.83423151 -2.43604187 -1.36030218  0.16931025]\n",
      " [-0.94706631 -0.96221596  0.61289704  0.5538027 ]\n",
      " [-1.22354628 -0.21889902  0.53804644 -1.171364  ]\n",
      " [ 0.17307989 -0.67865877  0.3394547  -0.47486928]]\n",
      " \n",
      "[[-0.67979034  0.9303576  -0.84041305 -1.35729139]\n",
      " [ 0.83423151 -2.43604187 -1.36030218  0.16931025]]\n",
      " \n",
      "[[-0.67979034  0.9303576  -0.84041305 -1.35729139]\n",
      " [-1.10470786 -0.67857822 -0.83661212  0.6394455 ]\n",
      " [ 0.83423151 -2.43604187 -1.36030218  0.16931025]]\n"
     ]
    }
   ],
   "source": [
    "import numpy as np\n",
    "name = np.array([\"a1\", \"a2\", \"a3\", \"a1\", \"a3\", \"a7\", \"a9\"])\n",
    "data = np.random.randn(7,4)\n",
    "\n",
    "\n",
    "print(data)\n",
    "print(\" \")\n",
    "print(data[name==\"a1\",:]) # data 행 부분에서 해당하는 인덱스에 a1을 출력한 Boolean 값 대입\n",
    "print(\" \")\n",
    "print(data[(name==\"a1\")|(name==\"a2\"),:]) # a1과 a2에 해당되는 행 부분"
   ]
  },
  {
   "cell_type": "markdown",
   "id": "257ba45c",
   "metadata": {},
   "source": [
    "### Fancy 인덱싱 : 정수 배열을 기준으로 다차원 배열을 인덱싱하는 방법\n",
    "- Fancy 인덱싱을 하게 되면 view가 아니라 copy가 생성\n",
    "- 따라서 Fancy<인덱싱 이후에 copy된 배열에 변화를 주어도 원본에는 변화가 없음"
   ]
  },
  {
   "cell_type": "code",
   "execution_count": 162,
   "id": "2118ad84",
   "metadata": {},
   "outputs": [
    {
     "name": "stdout",
     "output_type": "stream",
     "text": [
      "[[ 0  1  2  3  4]\n",
      " [ 5  6  7  8  9]\n",
      " [10 11 12 13 14]\n",
      " [15 16 17 18 19]]\n",
      "[[ 5  6  7  8  9]\n",
      " [15 16 17 18 19]]\n"
     ]
    },
    {
     "data": {
      "text/plain": [
       "8"
      ]
     },
     "execution_count": 162,
     "metadata": {},
     "output_type": "execute_result"
    }
   ],
   "source": [
    "a = np.arange(20).reshape(4,5)\n",
    "print(a)\n",
    "print(a[[1,3]]) # a[1], a[3]을 2차원 배열로 인덱싱  \n",
    "print(a[1,3]) # a의 index1행 index3열 반환"
   ]
  },
  {
   "cell_type": "code",
   "execution_count": 177,
   "id": "d68a260d",
   "metadata": {},
   "outputs": [
    {
     "name": "stdout",
     "output_type": "stream",
     "text": [
      "[[ 0  1  2  3  4]\n",
      " [ 5  6  7  8  9]\n",
      " [10 11 12 13 14]\n",
      " [15 16 17 18 19]]\n",
      "\n",
      "[[ 0  1  2  3  4]\n",
      " [10 11 12 13 14]\n",
      " [ 5  6  7  8  9]]\n",
      "\n",
      "[[ 0  2]\n",
      " [ 5  7]\n",
      " [10 12]\n",
      " [15 17]]\n",
      "\n",
      "[[ 0  2]\n",
      " [10 12]\n",
      " [ 5  7]]\n"
     ]
    }
   ],
   "source": [
    "print(a)\n",
    "\n",
    "print(\"\")\n",
    "print(a[[0,2,1]]) # index 0, 2, 1 행 반환\n",
    "\n",
    "print(\"\")\n",
    "print(a[:,[0,2]])# 전체 행 중 index 0, 2 열 반환\n",
    "\n",
    "print(\"\")\n",
    "print(a[[0,2,1]][:,[0,2]]) # index 0, 2, 1 행 중 index 0, 2 열 반환"
   ]
  },
  {
   "cell_type": "code",
   "execution_count": 183,
   "id": "0682af2e",
   "metadata": {},
   "outputs": [
    {
     "name": "stdout",
     "output_type": "stream",
     "text": [
      "[[ 0  2]\n",
      " [10 12]\n",
      " [ 5  7]]\n"
     ]
    }
   ],
   "source": [
    "print(a[np.ix_([0,2,1],[0,2])]) # == a[[0,2,1]][:,[0,2]]"
   ]
  },
  {
   "cell_type": "markdown",
   "id": "b431f4c2",
   "metadata": {},
   "source": [
    "---\n",
    "## Numpy 배열의 연산과 함수\n",
    "### Numpy 배열 요소 추가 및 삭제\n",
    "`array.reshape()`   \n",
    "`array.resize()`   \n",
    "`array.append()`   \n",
    "`array.insert()`    \n",
    "`array.delete()`"
   ]
  },
  {
   "cell_type": "code",
   "execution_count": 188,
   "id": "2a3b8335",
   "metadata": {},
   "outputs": [
    {
     "name": "stdout",
     "output_type": "stream",
     "text": [
      "[[1 8 9 3 9]\n",
      " [6 2 4 7 4]]\n",
      "[[1 8 9 3 9]\n",
      " [6 2 4 7 4]]\n",
      "[[1 8 9 3 9 6 2 4 7 4]\n",
      " [0 0 0 0 0 0 0 0 0 0]]\n"
     ]
    }
   ],
   "source": [
    "#배열 생성\n",
    "a = np.random.randint(1, 10, (2, 5))\n",
    "print(a)\n",
    "\n",
    "a.reshape((5, 2)) # reshape - 본래 크기를 벗어날 수 없음 -> 요소 수 변경 없음\n",
    "print(a)\n",
    "\n",
    "a.resize((2, 10)) # 요소가 10개에서 20개로 늘어남\n",
    "print(a) # 늘어난 요소는 0으로 채워짐"
   ]
  },
  {
   "cell_type": "markdown",
   "id": "4ce3e6e5",
   "metadata": {},
   "source": [
    "### Numpy 배열의 결합\n",
    "`numpy.concatenate((a1,a2,...),axis=0)`   \n",
    "`numpy.vstack(tuple)`    \n",
    "`numpy.hstack(tuple)`   \n"
   ]
  },
  {
   "cell_type": "markdown",
   "id": "bcae3e05",
   "metadata": {},
   "source": [
    "### Numpy 배열의 분리\n",
    "`numpy.hsplit(array,indices_or_sections)`   \n",
    "`numpy.vsplit(array,indices_or_sections)`    "
   ]
  },
  {
   "cell_type": "markdown",
   "id": "5aa961be",
   "metadata": {},
   "source": [
    "---"
   ]
  },
  {
   "cell_type": "markdown",
   "id": "ff2e87b1",
   "metadata": {},
   "source": [
    "# Pandas"
   ]
  },
  {
   "cell_type": "code",
   "execution_count": 193,
   "id": "fff4debb",
   "metadata": {},
   "outputs": [],
   "source": [
    "import pandas as pd"
   ]
  },
  {
   "cell_type": "markdown",
   "id": "2751306f",
   "metadata": {},
   "source": [
    "## Pandas 1차원 데이터 Series"
   ]
  },
  {
   "cell_type": "code",
   "execution_count": 197,
   "id": "9af000df",
   "metadata": {},
   "outputs": [
    {
     "name": "stdout",
     "output_type": "stream",
     "text": [
      "a    1\n",
      "b    2\n",
      "c    3\n",
      "dtype: int64\n",
      "<class 'pandas.core.series.Series'>\n"
     ]
    }
   ],
   "source": [
    "D = {'a':1, 'b':2, 'c':3}\n",
    "series_D = pd.Series(D)\n",
    "print(series_D)\n",
    "print(type(series_D))"
   ]
  },
  {
   "cell_type": "code",
   "execution_count": 200,
   "id": "f02945d0",
   "metadata": {},
   "outputs": [
    {
     "name": "stdout",
     "output_type": "stream",
     "text": [
      "0     [1, 2, 3]\n",
      "1           ABC\n",
      "2          True\n",
      "3    2021-11-02\n",
      "dtype: object\n",
      "<class 'pandas.core.series.Series'>\n"
     ]
    }
   ],
   "source": [
    "L = [[1, 2, 3], 'ABC', True, '2021-11-02']\n",
    "series_L = pd.Series(L)\n",
    "print(series_L)\n",
    "print(type(series_L))"
   ]
  },
  {
   "cell_type": "code",
   "execution_count": 203,
   "id": "42bfe4ca",
   "metadata": {},
   "outputs": [
    {
     "data": {
      "text/plain": [
       "Name           Sara\n",
       "Birth    1997-07-08\n",
       "Sex          Female\n",
       "Score            89\n",
       "dtype: object"
      ]
     },
     "metadata": {},
     "output_type": "display_data"
    },
    {
     "name": "stdout",
     "output_type": "stream",
     "text": [
      "\n",
      "\n",
      "Name           Sara\n",
      "Birth    1997-07-08\n",
      "Sex          Female\n",
      "Score            89\n",
      "dtype: object\n",
      "\n",
      "\n",
      "Female\n"
     ]
    }
   ],
   "source": [
    "data = ('Sara', '1997-07-08', 'Female', 89)\n",
    "s_data = pd.Series(data, index = ['Name', 'Birth', 'Sex', 'Score'])\n",
    "display(s_data)\n",
    "print('\\n')\n",
    "print(s_data)\n",
    "print('\\n')\n",
    "print(s_data['Sex'])"
   ]
  },
  {
   "cell_type": "code",
   "execution_count": 220,
   "id": "fafd267f",
   "metadata": {},
   "outputs": [
    {
     "name": "stdout",
     "output_type": "stream",
     "text": [
      "Name           Sara\n",
      "Birth    1997-07-08\n",
      "Sex          Female\n",
      "dtype: object\n",
      "\n",
      "\n",
      "Name     Sara\n",
      "Score      89\n",
      "dtype: object\n",
      "\n",
      "\n",
      "Name           Sara\n",
      "Birth    1997-07-08\n",
      "Sex          Female\n",
      "dtype: object\n",
      "\n",
      "\n",
      "Name     Sara\n",
      "Score      89\n",
      "dtype: object\n"
     ]
    }
   ],
   "source": [
    "data = ('Sara', '1997-07-08', 'Female', 89)\n",
    "s_data = pd.Series(data, index = ['Name', 'Birth', 'Sex', 'Score'])\n",
    "\n",
    "print(s_data['Name':'Sex'])\n",
    "print('\\n')\n",
    "print(s_data[['Name', 'Score']])\n",
    "print('\\n')\n",
    "\n",
    "print(s_data[0:3])\n",
    "print('\\n')\n",
    "print(s_data[[0, 3]])"
   ]
  },
  {
   "cell_type": "code",
   "execution_count": 221,
   "id": "7a27e8e8",
   "metadata": {},
   "outputs": [
    {
     "name": "stdout",
     "output_type": "stream",
     "text": [
      "a.mean() =  nan\n",
      "b.mean() =  2.5\n"
     ]
    }
   ],
   "source": [
    "import numpy as np\n",
    "import pandas as pd\n",
    "\n",
    "a = np.array([1, 2, 3, 4, np.NaN])\n",
    "print(\"a.mean() = \", a.mean()) # numpy에서는 NaN 처리 불가능\n",
    "\n",
    "b = pd.Series(a)\n",
    "print(\"b.mean() = \", b.mean()) # pandas는 NaN을 제외한 값 계산"
   ]
  },
  {
   "cell_type": "markdown",
   "id": "bf7e56b0",
   "metadata": {},
   "source": [
    "## Pandas 2차원 데이터 Data Frame"
   ]
  },
  {
   "cell_type": "code",
   "execution_count": 226,
   "id": "9349b894",
   "metadata": {},
   "outputs": [
    {
     "data": {
      "text/html": [
       "<div>\n",
       "<style scoped>\n",
       "    .dataframe tbody tr th:only-of-type {\n",
       "        vertical-align: middle;\n",
       "    }\n",
       "\n",
       "    .dataframe tbody tr th {\n",
       "        vertical-align: top;\n",
       "    }\n",
       "\n",
       "    .dataframe thead th {\n",
       "        text-align: right;\n",
       "    }\n",
       "</style>\n",
       "<table border=\"1\" class=\"dataframe\">\n",
       "  <thead>\n",
       "    <tr style=\"text-align: right;\">\n",
       "      <th></th>\n",
       "      <th>Color</th>\n",
       "      <th>Product_ID</th>\n",
       "      <th>Product_Name</th>\n",
       "    </tr>\n",
       "  </thead>\n",
       "  <tbody>\n",
       "    <tr>\n",
       "      <th>0</th>\n",
       "      <td>blue</td>\n",
       "      <td>1</td>\n",
       "      <td>T-Shirt</td>\n",
       "    </tr>\n",
       "    <tr>\n",
       "      <th>1</th>\n",
       "      <td>green</td>\n",
       "      <td>2</td>\n",
       "      <td>T-Shirt</td>\n",
       "    </tr>\n",
       "    <tr>\n",
       "      <th>2</th>\n",
       "      <td>red</td>\n",
       "      <td>3</td>\n",
       "      <td>Shirt</td>\n",
       "    </tr>\n",
       "    <tr>\n",
       "      <th>3</th>\n",
       "      <td>black</td>\n",
       "      <td>4</td>\n",
       "      <td>Shirt</td>\n",
       "    </tr>\n",
       "  </tbody>\n",
       "</table>\n",
       "</div>"
      ],
      "text/plain": [
       "   Color  Product_ID Product_Name\n",
       "0   blue           1      T-Shirt\n",
       "1  green           2      T-Shirt\n",
       "2    red           3        Shirt\n",
       "3  black           4        Shirt"
      ]
     },
     "metadata": {},
     "output_type": "display_data"
    }
   ],
   "source": [
    "# 1. 딕셔너리 형식 데이터 프레임\n",
    "df1 = pd.DataFrame({'Color': ['blue', 'green', 'red', 'black'],\n",
    "                   'Product_ID':[1,2,3,4],\n",
    "                   'Product_Name':['T-Shirt', 'T-Shirt', 'Shirt', 'Shirt']})\n",
    "\n",
    "display(df1)"
   ]
  },
  {
   "cell_type": "code",
   "execution_count": 227,
   "id": "4dae1a84",
   "metadata": {},
   "outputs": [
    {
     "data": {
      "text/html": [
       "<div>\n",
       "<style scoped>\n",
       "    .dataframe tbody tr th:only-of-type {\n",
       "        vertical-align: middle;\n",
       "    }\n",
       "\n",
       "    .dataframe tbody tr th {\n",
       "        vertical-align: top;\n",
       "    }\n",
       "\n",
       "    .dataframe thead th {\n",
       "        text-align: right;\n",
       "    }\n",
       "</style>\n",
       "<table border=\"1\" class=\"dataframe\">\n",
       "  <thead>\n",
       "    <tr style=\"text-align: right;\">\n",
       "      <th></th>\n",
       "      <th>Store ID</th>\n",
       "      <th>Location</th>\n",
       "      <th>Numer of Employess</th>\n",
       "    </tr>\n",
       "  </thead>\n",
       "  <tbody>\n",
       "    <tr>\n",
       "      <th>0</th>\n",
       "      <td>1</td>\n",
       "      <td>San Diego</td>\n",
       "      <td>100</td>\n",
       "    </tr>\n",
       "    <tr>\n",
       "      <th>1</th>\n",
       "      <td>2</td>\n",
       "      <td>Los Angeles</td>\n",
       "      <td>120</td>\n",
       "    </tr>\n",
       "    <tr>\n",
       "      <th>2</th>\n",
       "      <td>3</td>\n",
       "      <td>San Francisco</td>\n",
       "      <td>90</td>\n",
       "    </tr>\n",
       "    <tr>\n",
       "      <th>3</th>\n",
       "      <td>4</td>\n",
       "      <td>Sacreamento</td>\n",
       "      <td>115</td>\n",
       "    </tr>\n",
       "  </tbody>\n",
       "</table>\n",
       "</div>"
      ],
      "text/plain": [
       "   Store ID       Location  Numer of Employess\n",
       "0         1      San Diego                 100\n",
       "1         2    Los Angeles                 120\n",
       "2         3  San Francisco                  90\n",
       "3         4    Sacreamento                 115"
      ]
     },
     "metadata": {},
     "output_type": "display_data"
    }
   ],
   "source": [
    "# 2. 리스트 형식 데이터 프레임\n",
    "df2 = pd.DataFrame([\n",
    "    [1, 'San Diego', 100],\n",
    "    [2, 'Los Angeles', 120],\n",
    "    [3, 'San Francisco', 90],\n",
    "    [4, 'Sacreamento', 115]],\n",
    "    columns=['Store ID', 'Location', 'Numer of Employess'])\n",
    "\n",
    "display(df2)"
   ]
  },
  {
   "cell_type": "code",
   "execution_count": 243,
   "id": "622b26a6",
   "metadata": {},
   "outputs": [
    {
     "data": {
      "text/html": [
       "<div>\n",
       "<style scoped>\n",
       "    .dataframe tbody tr th:only-of-type {\n",
       "        vertical-align: middle;\n",
       "    }\n",
       "\n",
       "    .dataframe tbody tr th {\n",
       "        vertical-align: top;\n",
       "    }\n",
       "\n",
       "    .dataframe thead th {\n",
       "        text-align: right;\n",
       "    }\n",
       "</style>\n",
       "<table border=\"1\" class=\"dataframe\">\n",
       "  <thead>\n",
       "    <tr style=\"text-align: right;\">\n",
       "      <th></th>\n",
       "      <th>Color</th>\n",
       "      <th>Product ID</th>\n",
       "      <th>Product Name</th>\n",
       "    </tr>\n",
       "  </thead>\n",
       "  <tbody>\n",
       "    <tr>\n",
       "      <th>0</th>\n",
       "      <td>Blue</td>\n",
       "      <td>1</td>\n",
       "      <td>T-Shirt</td>\n",
       "    </tr>\n",
       "    <tr>\n",
       "      <th>1</th>\n",
       "      <td>Green</td>\n",
       "      <td>2</td>\n",
       "      <td>T-Shirt</td>\n",
       "    </tr>\n",
       "    <tr>\n",
       "      <th>2</th>\n",
       "      <td>Red</td>\n",
       "      <td>3</td>\n",
       "      <td>Shirt</td>\n",
       "    </tr>\n",
       "    <tr>\n",
       "      <th>3</th>\n",
       "      <td>Black</td>\n",
       "      <td>4</td>\n",
       "      <td>Shirt</td>\n",
       "    </tr>\n",
       "  </tbody>\n",
       "</table>\n",
       "</div>"
      ],
      "text/plain": [
       "   Color  Product ID Product Name\n",
       "0   Blue           1      T-Shirt\n",
       "1  Green           2      T-Shirt\n",
       "2    Red           3        Shirt\n",
       "3  Black           4        Shirt"
      ]
     },
     "metadata": {},
     "output_type": "display_data"
    },
    {
     "name": "stdout",
     "output_type": "stream",
     "text": [
      "\n",
      "\n",
      "<bound method DataFrame.info of    Color  Product ID Product Name\n",
      "0   Blue           1      T-Shirt\n",
      "1  Green           2      T-Shirt\n",
      "2    Red           3        Shirt\n",
      "3  Black           4        Shirt>\n"
     ]
    }
   ],
   "source": [
    "data = pd.read_csv(\"example.csv\")\n",
    "display(data)\n",
    "print('\\n')\n",
    "print(data.info)\n",
    "result = data[[\"Color\", \"Product Name\"]]\n",
    "result.to_csv(\"result.csv\")"
   ]
  }
 ],
 "metadata": {
  "kernelspec": {
   "display_name": "Python 3",
   "language": "python",
   "name": "python3"
  },
  "language_info": {
   "codemirror_mode": {
    "name": "ipython",
    "version": 3
   },
   "file_extension": ".py",
   "mimetype": "text/x-python",
   "name": "python",
   "nbconvert_exporter": "python",
   "pygments_lexer": "ipython3",
   "version": "3.8.8"
  }
 },
 "nbformat": 4,
 "nbformat_minor": 5
}
