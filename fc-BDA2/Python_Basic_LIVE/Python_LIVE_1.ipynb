{
 "cells": [
  {
   "cell_type": "markdown",
   "id": "e160d0b5",
   "metadata": {},
   "source": [
    "# print() 출력 함수\n",
    "- **print()** 함수는 파라미터를 출력할 수 있다."
   ]
  },
  {
   "cell_type": "code",
   "execution_count": 4,
   "id": "3af68f5b",
   "metadata": {},
   "outputs": [
    {
     "name": "stdout",
     "output_type": "stream",
     "text": [
      "Greeting!\n"
     ]
    }
   ],
   "source": [
    "print(\"Greeting!\")"
   ]
  },
  {
   "cell_type": "markdown",
   "id": "5020f8d9",
   "metadata": {},
   "source": [
    "-----\n",
    "---"
   ]
  },
  {
   "cell_type": "markdown",
   "id": "19932454",
   "metadata": {},
   "source": [
    "# 마크다운 Markdown\n",
    "- 마크업 언어: 문서가 화면에 표시되는 형식을 나타내거나, 데이터의 구조를 명시하기 위한 언어"
   ]
  },
  {
   "cell_type": "markdown",
   "id": "5d180b0a",
   "metadata": {},
   "source": [
    "# Hello World ('#' 대제목)\n",
    "## Hello World ('##' 중제목)\n",
    "### Hello World ('###' 소제목)\n",
    "\n",
    "<br>- Hello World ('-'은 dot list)\n",
    "1. Hello World ('1~숫자'는 number list)\n",
    "\n",
    "> Hello World     ('>'은 인용문quote)\n",
    "\n",
    "<br>*Hello World ('*' 기울임-이탤릭체)\n",
    "<br>**Hello World ('**' 굵은 글씨)\n",
    "<br>***Hello World ('***' 기울임+굵은글씨)\n",
    "<br><br> (\"< br >\" == 줄바꿈)\n",
    "\n",
    "<br>`Hello World` (\" `` \" 은 마크다운 내부 코드 삽입)\n",
    "<br>~~Hello World~~ ( \"~~\"은 취소선) "
   ]
  },
  {
   "cell_type": "code",
   "execution_count": 7,
   "id": "5b55476a",
   "metadata": {},
   "outputs": [
    {
     "name": "stdout",
     "output_type": "stream",
     "text": [
      "I love 'you'\n"
     ]
    }
   ],
   "source": [
    "print(\"I love 'you'\")"
   ]
  },
  {
   "cell_type": "code",
   "execution_count": 8,
   "id": "9c74ae3f",
   "metadata": {},
   "outputs": [
    {
     "ename": "SyntaxError",
     "evalue": "EOL while scanning string literal (<ipython-input-8-48f8aa2c1cab>, line 1)",
     "output_type": "error",
     "traceback": [
      "\u001b[1;36m  File \u001b[1;32m\"<ipython-input-8-48f8aa2c1cab>\"\u001b[1;36m, line \u001b[1;32m1\u001b[0m\n\u001b[1;33m    print(\"I like you')\u001b[0m\n\u001b[1;37m                       ^\u001b[0m\n\u001b[1;31mSyntaxError\u001b[0m\u001b[1;31m:\u001b[0m EOL while scanning string literal\n"
     ]
    }
   ],
   "source": [
    "print(\"I like you')"
   ]
  },
  {
   "cell_type": "code",
   "execution_count": 9,
   "id": "711c4cc9",
   "metadata": {},
   "outputs": [
    {
     "name": "stdout",
     "output_type": "stream",
     "text": [
      "korea\n"
     ]
    }
   ],
   "source": [
    "print('korea')"
   ]
  },
  {
   "cell_type": "code",
   "execution_count": 10,
   "id": "e43dd1e2",
   "metadata": {},
   "outputs": [
    {
     "ename": "SyntaxError",
     "evalue": "invalid syntax (<ipython-input-10-817926f202ed>, line 1)",
     "output_type": "error",
     "traceback": [
      "\u001b[1;36m  File \u001b[1;32m\"<ipython-input-10-817926f202ed>\"\u001b[1;36m, line \u001b[1;32m1\u001b[0m\n\u001b[1;33m    print{Hello}\u001b[0m\n\u001b[1;37m         ^\u001b[0m\n\u001b[1;31mSyntaxError\u001b[0m\u001b[1;31m:\u001b[0m invalid syntax\n"
     ]
    }
   ],
   "source": [
    "print{Hello}"
   ]
  },
  {
   "cell_type": "code",
   "execution_count": 12,
   "id": "eea26eeb",
   "metadata": {},
   "outputs": [
    {
     "ename": "NameError",
     "evalue": "name 'Hello' is not defined",
     "output_type": "error",
     "traceback": [
      "\u001b[1;31m---------------------------------------------------------------------------\u001b[0m",
      "\u001b[1;31mNameError\u001b[0m                                 Traceback (most recent call last)",
      "\u001b[1;32m<ipython-input-12-27eb88f266c4>\u001b[0m in \u001b[0;36m<module>\u001b[1;34m\u001b[0m\n\u001b[1;32m----> 1\u001b[1;33m \u001b[0mprint\u001b[0m\u001b[1;33m[\u001b[0m\u001b[0mHello\u001b[0m\u001b[1;33m]\u001b[0m\u001b[1;33m\u001b[0m\u001b[1;33m\u001b[0m\u001b[0m\n\u001b[0m",
      "\u001b[1;31mNameError\u001b[0m: name 'Hello' is not defined"
     ]
    }
   ],
   "source": [
    "print[Hello]"
   ]
  },
  {
   "cell_type": "code",
   "execution_count": 14,
   "id": "1237c84b",
   "metadata": {},
   "outputs": [
    {
     "data": {
      "text/plain": [
       "True"
      ]
     },
     "execution_count": 14,
     "metadata": {},
     "output_type": "execute_result"
    }
   ],
   "source": [
    "bool(3)"
   ]
  },
  {
   "cell_type": "markdown",
   "id": "770ed01d",
   "metadata": {},
   "source": [
    "---\n",
    "---"
   ]
  },
  {
   "cell_type": "markdown",
   "id": "fb4a1e72",
   "metadata": {},
   "source": [
    "# 컬렉션 타입 Collection"
   ]
  },
  {
   "cell_type": "markdown",
   "id": "65e4a550",
   "metadata": {},
   "source": [
    "## 리스트 List"
   ]
  },
  {
   "cell_type": "code",
   "execution_count": 21,
   "id": "99e0471a",
   "metadata": {},
   "outputs": [],
   "source": [
    "a = [\"AB\", 10, False]"
   ]
  },
  {
   "cell_type": "code",
   "execution_count": 22,
   "id": "3de5af3c",
   "metadata": {},
   "outputs": [
    {
     "name": "stdout",
     "output_type": "stream",
     "text": [
      "['AB', 10, False]\n"
     ]
    }
   ],
   "source": [
    "print(a)"
   ]
  },
  {
   "cell_type": "code",
   "execution_count": 23,
   "id": "9571b501",
   "metadata": {},
   "outputs": [
    {
     "name": "stdout",
     "output_type": "stream",
     "text": [
      "['Not AB', 10, False]\n"
     ]
    }
   ],
   "source": [
    "a[0] = \"Not AB\"\n",
    "print(a)"
   ]
  },
  {
   "cell_type": "code",
   "execution_count": 32,
   "id": "3b179660",
   "metadata": {},
   "outputs": [
    {
     "data": {
      "text/plain": [
       "[1, 2, 3]"
      ]
     },
     "execution_count": 32,
     "metadata": {},
     "output_type": "execute_result"
    }
   ],
   "source": [
    "a = [1, 2, 3, 4, 5]\n",
    "x = a[:3]\n",
    "x"
   ]
  },
  {
   "cell_type": "code",
   "execution_count": 33,
   "id": "7ad8df6c",
   "metadata": {},
   "outputs": [
    {
     "data": {
      "text/plain": [
       "[1, 2, 3, 4, 5, 10.3]"
      ]
     },
     "execution_count": 33,
     "metadata": {},
     "output_type": "execute_result"
    }
   ],
   "source": [
    "a.append(10.3)\n",
    "a"
   ]
  },
  {
   "cell_type": "code",
   "execution_count": 34,
   "id": "35de3be3",
   "metadata": {},
   "outputs": [
    {
     "data": {
      "text/plain": [
       "[1, 2, 4, 5, 10.3]"
      ]
     },
     "execution_count": 34,
     "metadata": {},
     "output_type": "execute_result"
    }
   ],
   "source": [
    "del a[2]\n",
    "a"
   ]
  },
  {
   "cell_type": "code",
   "execution_count": 35,
   "id": "eeb646c5",
   "metadata": {},
   "outputs": [
    {
     "data": {
      "text/plain": [
       "[1, 2, 4, 5, 10.3, 'Ten']"
      ]
     },
     "execution_count": 35,
     "metadata": {},
     "output_type": "execute_result"
    }
   ],
   "source": [
    "a.append(\"Ten\")\n",
    "a"
   ]
  },
  {
   "cell_type": "code",
   "execution_count": 36,
   "id": "b2cdf679",
   "metadata": {},
   "outputs": [],
   "source": [
    "del a[-1]"
   ]
  },
  {
   "cell_type": "code",
   "execution_count": 37,
   "id": "6a692557",
   "metadata": {},
   "outputs": [
    {
     "data": {
      "text/plain": [
       "[1, 2, 4, 5, 10.3]"
      ]
     },
     "execution_count": 37,
     "metadata": {},
     "output_type": "execute_result"
    }
   ],
   "source": [
    "a"
   ]
  },
  {
   "cell_type": "markdown",
   "id": "861300c2",
   "metadata": {},
   "source": [
    "### 실습"
   ]
  },
  {
   "cell_type": "markdown",
   "id": "7b974bf0",
   "metadata": {},
   "source": [
    "- 빈 리스트에 1~100 추가"
   ]
  },
  {
   "cell_type": "code",
   "execution_count": 45,
   "id": "34395ac5",
   "metadata": {},
   "outputs": [
    {
     "name": "stdout",
     "output_type": "stream",
     "text": [
      "[1, 2, 3, 4, 5, 6, 7, 8, 9, 10, 11, 12, 13, 14, 15, 16, 17, 18, 19, 20, 21, 22, 23, 24, 25, 26, 27, 28, 29, 30, 31, 32, 33, 34, 35, 36, 37, 38, 39, 40, 41, 42, 43, 44, 45, 46, 47, 48, 49, 50, 51, 52, 53, 54, 55, 56, 57, 58, 59, 60, 61, 62, 63, 64, 65, 66, 67, 68, 69, 70, 71, 72, 73, 74, 75, 76, 77, 78, 79, 80, 81, 82, 83, 84, 85, 86, 87, 88, 89, 90, 91, 92, 93, 94, 95, 96, 97, 98, 99, 100]\n"
     ]
    }
   ],
   "source": [
    "L = []\n",
    "\n",
    "# 1.\n",
    "for i in range(100):\n",
    "    L.append(i + 1)\n",
    "\n",
    "# 2.    \n",
    "L = [i for i in range(1, 101)]\n",
    "\n",
    "print(L)"
   ]
  },
  {
   "cell_type": "markdown",
   "id": "09f8ecc1",
   "metadata": {},
   "source": [
    "- 중첩리스트"
   ]
  },
  {
   "cell_type": "code",
   "execution_count": 46,
   "id": "73283322",
   "metadata": {},
   "outputs": [
    {
     "name": "stdout",
     "output_type": "stream",
     "text": [
      "[10, 20, 30, 40, 50]\n"
     ]
    }
   ],
   "source": [
    "L = [10, 20, 30, 40, 50]\n",
    "print(L)"
   ]
  },
  {
   "cell_type": "code",
   "execution_count": 68,
   "id": "e26d4b35",
   "metadata": {},
   "outputs": [
    {
     "name": "stdout",
     "output_type": "stream",
     "text": [
      "[10, 20, 30, 40, 50]\n",
      "[100, 400, 900, 1600, 2500]\n"
     ]
    }
   ],
   "source": [
    "L2 = []\n",
    "for i in L:\n",
    "    L2.append(i)\n",
    "print(L2)\n",
    "\n",
    "\n",
    "L3 = []\n",
    "for i in range(len(L)):\n",
    "    L3.append(L[i] * L2[i])\n",
    "print(L3)"
   ]
  },
  {
   "cell_type": "markdown",
   "id": "e041ec0b",
   "metadata": {},
   "source": [
    "## 튜플 Tuple"
   ]
  },
  {
   "cell_type": "code",
   "execution_count": null,
   "id": "129028fd",
   "metadata": {},
   "outputs": [],
   "source": []
  },
  {
   "cell_type": "markdown",
   "id": "8d64a09b",
   "metadata": {},
   "source": [
    "## 딕셔너리 Dictionary"
   ]
  },
  {
   "cell_type": "code",
   "execution_count": 82,
   "id": "f0c30b4f",
   "metadata": {},
   "outputs": [
    {
     "data": {
      "text/plain": [
       "100"
      ]
     },
     "execution_count": 82,
     "metadata": {},
     "output_type": "execute_result"
    }
   ],
   "source": [
    "socre = {\"Tim\":100, \"Kate\":20, \"Nick\":50}\n",
    "d = socre[\"Tim\"]\n",
    "d"
   ]
  },
  {
   "cell_type": "markdown",
   "id": "394ad8f4",
   "metadata": {},
   "source": [
    "### 실습문제"
   ]
  },
  {
   "cell_type": "code",
   "execution_count": 92,
   "id": "3ce76c0c",
   "metadata": {},
   "outputs": [
    {
     "name": "stdout",
     "output_type": "stream",
     "text": [
      "575.6\n",
      "340\n",
      "{'health': 575.6, 'health_regen': 1.7, 'mana': 3338.8, 'mana_regen': 1.63, 'melee': 125, 'attack_damage': 60, 'attack_speed': 0.625, 'armor': 26, 'magic_resistance': 32.1, 'movement_speed': 340}\n"
     ]
    }
   ],
   "source": [
    "camille = {\n",
    "    'health': 575.6,\n",
    "    'health_regen': 1.7,\n",
    "    'mana':3338.8,\n",
    "    'mana_regen': 1.63,\n",
    "    'melee': 125,\n",
    "    'attack_damage': 60,\n",
    "    'attack_speed': 0.625,\n",
    "    'armor': 26,\n",
    "    'magic_resistance': 32.1,\n",
    "    'movement_speed': 340\n",
    "}\n",
    "\n",
    "print(camille['health'])\n",
    "print(camille['movement_speed'])\n",
    "print(camille)"
   ]
  },
  {
   "cell_type": "code",
   "execution_count": 91,
   "id": "63aeeb3c",
   "metadata": {},
   "outputs": [
    {
     "name": "stdout",
     "output_type": "stream",
     "text": [
      "575.6\n",
      "340\n",
      "{'health': 575.6, 'movement_speed': 340}\n"
     ]
    }
   ],
   "source": [
    "camille = dict(\n",
    "    health = 575.6,\n",
    "    movement_speed = 340\n",
    ")\n",
    "\n",
    "print(camille['health'])\n",
    "print(camille['movement_speed'])\n",
    "print(camille)"
   ]
  },
  {
   "cell_type": "markdown",
   "id": "d850c0a4",
   "metadata": {},
   "source": [
    "---"
   ]
  },
  {
   "cell_type": "markdown",
   "id": "e1bf269b",
   "metadata": {},
   "source": [
    "# 연산자"
   ]
  },
  {
   "cell_type": "markdown",
   "id": "099601bf",
   "metadata": {},
   "source": [
    "- 산술연산자\n",
    "- 비교연산자\n",
    "- 할당연산자\n",
    "- 논리연산자\n",
    "- Bitwise 연산자"
   ]
  },
  {
   "cell_type": "markdown",
   "id": "bfc716db",
   "metadata": {},
   "source": [
    "## Bitwise 연산자\n",
    "- & : bit AND\n",
    "- | : bit OR\n",
    "- ^ : bit XOR\n",
    "- ~ : bit NOT"
   ]
  },
  {
   "cell_type": "code",
   "execution_count": 95,
   "id": "43a8a4e9",
   "metadata": {},
   "outputs": [
    {
     "data": {
      "text/plain": [
       "'0b1000'"
      ]
     },
     "execution_count": 95,
     "metadata": {},
     "output_type": "execute_result"
    }
   ],
   "source": [
    "a = bin(8) # 2진수 비트 단위 변환 함수 : bin()\n",
    "print(a) # 0b1000 <- '0b' + '1000'"
   ]
  },
  {
   "cell_type": "code",
   "execution_count": 100,
   "id": "50f61116",
   "metadata": {},
   "outputs": [
    {
     "name": "stdout",
     "output_type": "stream",
     "text": [
      "11\n",
      "0b1011\n"
     ]
    }
   ],
   "source": [
    "a = 8\n",
    "b = 11\n",
    "print(b)\n",
    "print(bin(b))"
   ]
  },
  {
   "cell_type": "code",
   "execution_count": 105,
   "id": "9ac5f7a2",
   "metadata": {},
   "outputs": [
    {
     "name": "stdout",
     "output_type": "stream",
     "text": [
      "8\n",
      "3\n",
      "11\n",
      "-12\n"
     ]
    }
   ],
   "source": [
    "c = a & b # AND\n",
    "d = a ^ b # XOR : 입력값이 같지 않으면 1을 출력\n",
    "e = a | b # OR : 하나 이상의 입력값이 1이면 1을 출력\n",
    "f = ~e # NOT\n",
    "print(c)\n",
    "print(d)\n",
    "print(e)\n",
    "print(f)"
   ]
  },
  {
   "cell_type": "markdown",
   "id": "1d4c46ce",
   "metadata": {},
   "source": [
    "---"
   ]
  },
  {
   "cell_type": "markdown",
   "id": "6ebb09d6",
   "metadata": {},
   "source": [
    "# 조건/반복문"
   ]
  },
  {
   "cell_type": "markdown",
   "id": "d04a3ed8",
   "metadata": {},
   "source": [
    "## 조건문 if / else / elif"
   ]
  },
  {
   "cell_type": "code",
   "execution_count": null,
   "id": "15c2555a",
   "metadata": {},
   "outputs": [],
   "source": []
  },
  {
   "cell_type": "markdown",
   "id": "c7121ea4",
   "metadata": {},
   "source": [
    "## 반복문 while / for"
   ]
  },
  {
   "cell_type": "markdown",
   "id": "effa5d6a",
   "metadata": {},
   "source": [
    "### for문\n",
    "- for 변수 in 리스트(또는 튜플, 문자열):\n",
    "- 리스트나 튜플, 문자열의 첫 번째 요소부터 마지막 요소까지 차례로 변수에 대입\n"
   ]
  },
  {
   "cell_type": "code",
   "execution_count": 106,
   "id": "cf7904b3",
   "metadata": {},
   "outputs": [
    {
     "name": "stdout",
     "output_type": "stream",
     "text": [
      "3\n",
      "7\n",
      "11\n"
     ]
    }
   ],
   "source": [
    "L = [(1, 2), (3, 4), (5, 6)]\n",
    "\n",
    "for (first, last) in L:\n",
    "    print(first + last)"
   ]
  },
  {
   "cell_type": "markdown",
   "id": "ff27445c",
   "metadata": {},
   "source": [
    "- **구구단**"
   ]
  },
  {
   "cell_type": "code",
   "execution_count": 12,
   "id": "c36f1783",
   "metadata": {},
   "outputs": [
    {
     "name": "stdout",
     "output_type": "stream",
     "text": [
      "-------------\n",
      "2 x 1 = 2\n",
      "2 x 2 = 4\n",
      "2 x 3 = 6\n",
      "2 x 4 = 8\n",
      "2 x 5 = 10\n",
      "2 x 6 = 12\n",
      "2 x 7 = 14\n",
      "2 x 8 = 16\n",
      "2 x 9 = 18\n",
      "-------------\n",
      "3 x 1 = 3\n",
      "3 x 2 = 6\n",
      "3 x 3 = 9\n",
      "3 x 4 = 12\n",
      "3 x 5 = 15\n",
      "3 x 6 = 18\n",
      "3 x 7 = 21\n",
      "3 x 8 = 24\n",
      "3 x 9 = 27\n",
      "-------------\n",
      "4 x 1 = 4\n",
      "4 x 2 = 8\n",
      "4 x 3 = 12\n",
      "4 x 4 = 16\n",
      "4 x 5 = 20\n",
      "4 x 6 = 24\n",
      "4 x 7 = 28\n",
      "4 x 8 = 32\n",
      "4 x 9 = 36\n",
      "-------------\n",
      "5 x 1 = 5\n",
      "5 x 2 = 10\n",
      "5 x 3 = 15\n",
      "5 x 4 = 20\n",
      "5 x 5 = 25\n",
      "5 x 6 = 30\n",
      "5 x 7 = 35\n",
      "5 x 8 = 40\n",
      "5 x 9 = 45\n",
      "-------------\n",
      "6 x 1 = 6\n",
      "6 x 2 = 12\n",
      "6 x 3 = 18\n",
      "6 x 4 = 24\n",
      "6 x 5 = 30\n",
      "6 x 6 = 36\n",
      "6 x 7 = 42\n",
      "6 x 8 = 48\n",
      "6 x 9 = 54\n",
      "-------------\n",
      "7 x 1 = 7\n",
      "7 x 2 = 14\n",
      "7 x 3 = 21\n",
      "7 x 4 = 28\n",
      "7 x 5 = 35\n",
      "7 x 6 = 42\n",
      "7 x 7 = 49\n",
      "7 x 8 = 56\n",
      "7 x 9 = 63\n",
      "-------------\n",
      "8 x 1 = 8\n",
      "8 x 2 = 16\n",
      "8 x 3 = 24\n",
      "8 x 4 = 32\n",
      "8 x 5 = 40\n",
      "8 x 6 = 48\n",
      "8 x 7 = 56\n",
      "8 x 8 = 64\n",
      "8 x 9 = 72\n",
      "-------------\n",
      "9 x 1 = 9\n",
      "9 x 2 = 18\n",
      "9 x 3 = 27\n",
      "9 x 4 = 36\n",
      "9 x 5 = 45\n",
      "9 x 6 = 54\n",
      "9 x 7 = 63\n",
      "9 x 8 = 72\n",
      "9 x 9 = 81\n"
     ]
    }
   ],
   "source": [
    "# # 1.\n",
    "for i in range(2, 10):\n",
    "    for j in range(1, 10):\n",
    "        print(i*j, end=\" \")\n",
    "    print('')\n",
    "    \n",
    "# 2.\n",
    "i = 1\n",
    "while i < 9:\n",
    "    i += 1\n",
    "    j = 1\n",
    "    print(\"-------------\")\n",
    "    while j < 10:\n",
    "        print(\"{} x {} = {}\" .format(i, j, (i * j)))\n",
    "        j += 1"
   ]
  },
  {
   "cell_type": "markdown",
   "id": "b0244265",
   "metadata": {},
   "source": [
    "- **Sum of Digits**"
   ]
  },
  {
   "cell_type": "code",
   "execution_count": 16,
   "id": "f6cf21c2",
   "metadata": {},
   "outputs": [],
   "source": [
    "def sumOfDigits(num):\n",
    "    sum = 0\n",
    "    while num >= 1: # 양수일 때만 동작\n",
    "        sum = sum + (num % 10) # 10으로 나눈 몫을 축적\n",
    "        num = int(num/10) # num을 한 자릿수 낮춰서 초기화 (e.g. 5674 -> 567)\n",
    "    return sum"
   ]
  },
  {
   "cell_type": "code",
   "execution_count": 17,
   "id": "29ba9d0a",
   "metadata": {},
   "outputs": [
    {
     "data": {
      "text/plain": [
       "33"
      ]
     },
     "execution_count": 17,
     "metadata": {},
     "output_type": "execute_result"
    }
   ],
   "source": [
    "sumOfDigits(596832)"
   ]
  }
 ],
 "metadata": {
  "kernelspec": {
   "display_name": "Python 3",
   "language": "python",
   "name": "python3"
  },
  "language_info": {
   "codemirror_mode": {
    "name": "ipython",
    "version": 3
   },
   "file_extension": ".py",
   "mimetype": "text/x-python",
   "name": "python",
   "nbconvert_exporter": "python",
   "pygments_lexer": "ipython3",
   "version": "3.8.8"
  }
 },
 "nbformat": 4,
 "nbformat_minor": 5
}
