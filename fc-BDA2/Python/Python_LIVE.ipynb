{
 "cells": [
  {
   "cell_type": "markdown",
   "id": "268f27eb",
   "metadata": {},
   "source": [
    "## print() 출력 함수\n",
    "- **print()** 함수는 파라미터를 출력할 수 있다."
   ]
  },
  {
   "cell_type": "code",
   "execution_count": 4,
   "id": "dd6d4c94",
   "metadata": {},
   "outputs": [
    {
     "name": "stdout",
     "output_type": "stream",
     "text": [
      "Greeting!\n"
     ]
    }
   ],
   "source": [
    "print(\"Greeting!\")"
   ]
  },
  {
   "cell_type": "markdown",
   "id": "3b4a9feb",
   "metadata": {},
   "source": [
    "## 마크다운 Markdown\n",
    "- 마크업 언어: 문서가 화면에 표시되는 형식을 나타내거나, 데이터의 구조를 명시하기 위한 언어"
   ]
  },
  {
   "cell_type": "markdown",
   "id": "2b212b18",
   "metadata": {},
   "source": [
    "# Hello World ('#' 대제목)\n",
    "## Hello World ('##' 중제목)\n",
    "### Hello World ('###' 소제목)\n",
    "\n",
    "<br>- Hello World ('-'은 dot list)\n",
    "1. Hello World ('1~숫자'는 number list)\n",
    "\n",
    "> Hello World     ('>'은 인용문quote)\n",
    "\n",
    "<br>*Hello World ('*' 기울임-이탤릭체)\n",
    "<br>**Hello World ('**' 굵은 글씨)\n",
    "<br>***Hello World ('***' 기울임+굵은글씨)\n",
    "<br><br> (\"< br >\" == 줄바꿈)\n",
    "\n",
    "<br>`Hello World` (\" `` \" 은 마크다운 내부 코드 삽입)\n",
    "<br>~~Hello World~~ ( \"~~\"은 취소선) "
   ]
  },
  {
   "cell_type": "code",
   "execution_count": 7,
   "id": "2f43e8fd",
   "metadata": {},
   "outputs": [
    {
     "name": "stdout",
     "output_type": "stream",
     "text": [
      "I love 'you'\n"
     ]
    }
   ],
   "source": [
    "print(\"I love 'you'\")"
   ]
  },
  {
   "cell_type": "code",
   "execution_count": 8,
   "id": "32c88fd1",
   "metadata": {},
   "outputs": [
    {
     "ename": "SyntaxError",
     "evalue": "EOL while scanning string literal (<ipython-input-8-48f8aa2c1cab>, line 1)",
     "output_type": "error",
     "traceback": [
      "\u001b[1;36m  File \u001b[1;32m\"<ipython-input-8-48f8aa2c1cab>\"\u001b[1;36m, line \u001b[1;32m1\u001b[0m\n\u001b[1;33m    print(\"I like you')\u001b[0m\n\u001b[1;37m                       ^\u001b[0m\n\u001b[1;31mSyntaxError\u001b[0m\u001b[1;31m:\u001b[0m EOL while scanning string literal\n"
     ]
    }
   ],
   "source": [
    "print(\"I like you')"
   ]
  },
  {
   "cell_type": "code",
   "execution_count": 9,
   "id": "c20113c4",
   "metadata": {},
   "outputs": [
    {
     "name": "stdout",
     "output_type": "stream",
     "text": [
      "korea\n"
     ]
    }
   ],
   "source": [
    "print('korea')"
   ]
  },
  {
   "cell_type": "code",
   "execution_count": 10,
   "id": "c0f45f21",
   "metadata": {},
   "outputs": [
    {
     "ename": "SyntaxError",
     "evalue": "invalid syntax (<ipython-input-10-817926f202ed>, line 1)",
     "output_type": "error",
     "traceback": [
      "\u001b[1;36m  File \u001b[1;32m\"<ipython-input-10-817926f202ed>\"\u001b[1;36m, line \u001b[1;32m1\u001b[0m\n\u001b[1;33m    print{Hello}\u001b[0m\n\u001b[1;37m         ^\u001b[0m\n\u001b[1;31mSyntaxError\u001b[0m\u001b[1;31m:\u001b[0m invalid syntax\n"
     ]
    }
   ],
   "source": [
    "print{Hello}"
   ]
  },
  {
   "cell_type": "code",
   "execution_count": 12,
   "id": "75048dde",
   "metadata": {},
   "outputs": [
    {
     "ename": "NameError",
     "evalue": "name 'Hello' is not defined",
     "output_type": "error",
     "traceback": [
      "\u001b[1;31m---------------------------------------------------------------------------\u001b[0m",
      "\u001b[1;31mNameError\u001b[0m                                 Traceback (most recent call last)",
      "\u001b[1;32m<ipython-input-12-27eb88f266c4>\u001b[0m in \u001b[0;36m<module>\u001b[1;34m\u001b[0m\n\u001b[1;32m----> 1\u001b[1;33m \u001b[0mprint\u001b[0m\u001b[1;33m[\u001b[0m\u001b[0mHello\u001b[0m\u001b[1;33m]\u001b[0m\u001b[1;33m\u001b[0m\u001b[1;33m\u001b[0m\u001b[0m\n\u001b[0m",
      "\u001b[1;31mNameError\u001b[0m: name 'Hello' is not defined"
     ]
    }
   ],
   "source": [
    "print[Hello]"
   ]
  },
  {
   "cell_type": "code",
   "execution_count": 13,
   "id": "b477776d",
   "metadata": {},
   "outputs": [
    {
     "data": {
      "text/plain": [
       "True"
      ]
     },
     "execution_count": 13,
     "metadata": {},
     "output_type": "execute_result"
    }
   ],
   "source": [
    "bool(3)"
   ]
  }
 ],
 "metadata": {
  "kernelspec": {
   "display_name": "Python 3",
   "language": "python",
   "name": "python3"
  },
  "language_info": {
   "codemirror_mode": {
    "name": "ipython",
    "version": 3
   },
   "file_extension": ".py",
   "mimetype": "text/x-python",
   "name": "python",
   "nbconvert_exporter": "python",
   "pygments_lexer": "ipython3",
   "version": "3.8.8"
  }
 },
 "nbformat": 4,
 "nbformat_minor": 5
}
