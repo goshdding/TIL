{
 "cells": [
  {
   "cell_type": "markdown",
   "id": "49332360",
   "metadata": {},
   "source": [
    "# print() 출력 함수\n",
    "- **print()** 함수는 파라미터를 출력할 수 있다."
   ]
  },
  {
   "cell_type": "code",
   "execution_count": 4,
   "id": "3a985892",
   "metadata": {},
   "outputs": [
    {
     "name": "stdout",
     "output_type": "stream",
     "text": [
      "Greeting!\n"
     ]
    }
   ],
   "source": [
    "print(\"Greeting!\")"
   ]
  },
  {
   "cell_type": "markdown",
   "id": "c65fc8e2",
   "metadata": {},
   "source": [
    "# 마크다운 Markdown\n",
    "- 마크업 언어: 문서가 화면에 표시되는 형식을 나타내거나, 데이터의 구조를 명시하기 위한 언어"
   ]
  },
  {
   "cell_type": "markdown",
   "id": "168ff125",
   "metadata": {},
   "source": [
    "# Hello World ('#' 대제목)\n",
    "## Hello World ('##' 중제목)\n",
    "### Hello World ('###' 소제목)\n",
    "\n",
    "<br>- Hello World ('-'은 dot list)\n",
    "1. Hello World ('1~숫자'는 number list)\n",
    "\n",
    "> Hello World     ('>'은 인용문quote)\n",
    "\n",
    "<br>*Hello World ('*' 기울임-이탤릭체)\n",
    "<br>**Hello World ('**' 굵은 글씨)\n",
    "<br>***Hello World ('***' 기울임+굵은글씨)\n",
    "<br><br> (\"< br >\" == 줄바꿈)\n",
    "\n",
    "<br>`Hello World` (\" `` \" 은 마크다운 내부 코드 삽입)\n",
    "<br>~~Hello World~~ ( \"~~\"은 취소선) "
   ]
  },
  {
   "cell_type": "code",
   "execution_count": 7,
   "id": "8f94defc",
   "metadata": {},
   "outputs": [
    {
     "name": "stdout",
     "output_type": "stream",
     "text": [
      "I love 'you'\n"
     ]
    }
   ],
   "source": [
    "print(\"I love 'you'\")"
   ]
  },
  {
   "cell_type": "code",
   "execution_count": 8,
   "id": "643d18d3",
   "metadata": {},
   "outputs": [
    {
     "ename": "SyntaxError",
     "evalue": "EOL while scanning string literal (<ipython-input-8-48f8aa2c1cab>, line 1)",
     "output_type": "error",
     "traceback": [
      "\u001b[1;36m  File \u001b[1;32m\"<ipython-input-8-48f8aa2c1cab>\"\u001b[1;36m, line \u001b[1;32m1\u001b[0m\n\u001b[1;33m    print(\"I like you')\u001b[0m\n\u001b[1;37m                       ^\u001b[0m\n\u001b[1;31mSyntaxError\u001b[0m\u001b[1;31m:\u001b[0m EOL while scanning string literal\n"
     ]
    }
   ],
   "source": [
    "print(\"I like you')"
   ]
  },
  {
   "cell_type": "code",
   "execution_count": 9,
   "id": "10c3009a",
   "metadata": {},
   "outputs": [
    {
     "name": "stdout",
     "output_type": "stream",
     "text": [
      "korea\n"
     ]
    }
   ],
   "source": [
    "print('korea')"
   ]
  },
  {
   "cell_type": "code",
   "execution_count": 10,
   "id": "9a5c0c64",
   "metadata": {},
   "outputs": [
    {
     "ename": "SyntaxError",
     "evalue": "invalid syntax (<ipython-input-10-817926f202ed>, line 1)",
     "output_type": "error",
     "traceback": [
      "\u001b[1;36m  File \u001b[1;32m\"<ipython-input-10-817926f202ed>\"\u001b[1;36m, line \u001b[1;32m1\u001b[0m\n\u001b[1;33m    print{Hello}\u001b[0m\n\u001b[1;37m         ^\u001b[0m\n\u001b[1;31mSyntaxError\u001b[0m\u001b[1;31m:\u001b[0m invalid syntax\n"
     ]
    }
   ],
   "source": [
    "print{Hello}"
   ]
  },
  {
   "cell_type": "code",
   "execution_count": 12,
   "id": "955ea2d6",
   "metadata": {},
   "outputs": [
    {
     "ename": "NameError",
     "evalue": "name 'Hello' is not defined",
     "output_type": "error",
     "traceback": [
      "\u001b[1;31m---------------------------------------------------------------------------\u001b[0m",
      "\u001b[1;31mNameError\u001b[0m                                 Traceback (most recent call last)",
      "\u001b[1;32m<ipython-input-12-27eb88f266c4>\u001b[0m in \u001b[0;36m<module>\u001b[1;34m\u001b[0m\n\u001b[1;32m----> 1\u001b[1;33m \u001b[0mprint\u001b[0m\u001b[1;33m[\u001b[0m\u001b[0mHello\u001b[0m\u001b[1;33m]\u001b[0m\u001b[1;33m\u001b[0m\u001b[1;33m\u001b[0m\u001b[0m\n\u001b[0m",
      "\u001b[1;31mNameError\u001b[0m: name 'Hello' is not defined"
     ]
    }
   ],
   "source": [
    "print[Hello]"
   ]
  },
  {
   "cell_type": "code",
   "execution_count": 14,
   "id": "825362d1",
   "metadata": {},
   "outputs": [
    {
     "data": {
      "text/plain": [
       "True"
      ]
     },
     "execution_count": 14,
     "metadata": {},
     "output_type": "execute_result"
    }
   ],
   "source": [
    "bool(3)"
   ]
  },
  {
   "cell_type": "markdown",
   "id": "d73a883c",
   "metadata": {},
   "source": [
    "# 컬렉션 타입 Collection"
   ]
  },
  {
   "cell_type": "markdown",
   "id": "1eeb94ee",
   "metadata": {},
   "source": [
    "## 리스트 List"
   ]
  },
  {
   "cell_type": "code",
   "execution_count": 21,
   "id": "5886add0",
   "metadata": {},
   "outputs": [],
   "source": [
    "a = [\"AB\", 10, False]"
   ]
  },
  {
   "cell_type": "code",
   "execution_count": 22,
   "id": "8ea05404",
   "metadata": {},
   "outputs": [
    {
     "name": "stdout",
     "output_type": "stream",
     "text": [
      "['AB', 10, False]\n"
     ]
    }
   ],
   "source": [
    "print(a)"
   ]
  },
  {
   "cell_type": "code",
   "execution_count": 23,
   "id": "ac7a1bc0",
   "metadata": {},
   "outputs": [
    {
     "name": "stdout",
     "output_type": "stream",
     "text": [
      "['Not AB', 10, False]\n"
     ]
    }
   ],
   "source": [
    "a[0] = \"Not AB\"\n",
    "print(a)"
   ]
  },
  {
   "cell_type": "code",
   "execution_count": 32,
   "id": "de3384e2",
   "metadata": {},
   "outputs": [
    {
     "data": {
      "text/plain": [
       "[1, 2, 3]"
      ]
     },
     "execution_count": 32,
     "metadata": {},
     "output_type": "execute_result"
    }
   ],
   "source": [
    "a = [1, 2, 3, 4, 5]\n",
    "x = a[:3]\n",
    "x"
   ]
  },
  {
   "cell_type": "code",
   "execution_count": 33,
   "id": "bae2aa94",
   "metadata": {},
   "outputs": [
    {
     "data": {
      "text/plain": [
       "[1, 2, 3, 4, 5, 10.3]"
      ]
     },
     "execution_count": 33,
     "metadata": {},
     "output_type": "execute_result"
    }
   ],
   "source": [
    "a.append(10.3)\n",
    "a"
   ]
  },
  {
   "cell_type": "code",
   "execution_count": 34,
   "id": "ab5e0c66",
   "metadata": {},
   "outputs": [
    {
     "data": {
      "text/plain": [
       "[1, 2, 4, 5, 10.3]"
      ]
     },
     "execution_count": 34,
     "metadata": {},
     "output_type": "execute_result"
    }
   ],
   "source": [
    "del a[2]\n",
    "a"
   ]
  },
  {
   "cell_type": "code",
   "execution_count": 35,
   "id": "3cb1ebd1",
   "metadata": {},
   "outputs": [
    {
     "data": {
      "text/plain": [
       "[1, 2, 4, 5, 10.3, 'Ten']"
      ]
     },
     "execution_count": 35,
     "metadata": {},
     "output_type": "execute_result"
    }
   ],
   "source": [
    "a.append(\"Ten\")\n",
    "a"
   ]
  },
  {
   "cell_type": "code",
   "execution_count": 36,
   "id": "53f81994",
   "metadata": {},
   "outputs": [],
   "source": [
    "del a[-1]"
   ]
  },
  {
   "cell_type": "code",
   "execution_count": 37,
   "id": "1be454bb",
   "metadata": {},
   "outputs": [
    {
     "data": {
      "text/plain": [
       "[1, 2, 4, 5, 10.3]"
      ]
     },
     "execution_count": 37,
     "metadata": {},
     "output_type": "execute_result"
    }
   ],
   "source": [
    "a"
   ]
  },
  {
   "cell_type": "markdown",
   "id": "dccf162f",
   "metadata": {},
   "source": [
    "### 실습"
   ]
  },
  {
   "cell_type": "markdown",
   "id": "3b1d5171",
   "metadata": {},
   "source": [
    "- 빈 리스트에 1~100 추가"
   ]
  },
  {
   "cell_type": "code",
   "execution_count": 45,
   "id": "162f4e6f",
   "metadata": {},
   "outputs": [
    {
     "name": "stdout",
     "output_type": "stream",
     "text": [
      "[1, 2, 3, 4, 5, 6, 7, 8, 9, 10, 11, 12, 13, 14, 15, 16, 17, 18, 19, 20, 21, 22, 23, 24, 25, 26, 27, 28, 29, 30, 31, 32, 33, 34, 35, 36, 37, 38, 39, 40, 41, 42, 43, 44, 45, 46, 47, 48, 49, 50, 51, 52, 53, 54, 55, 56, 57, 58, 59, 60, 61, 62, 63, 64, 65, 66, 67, 68, 69, 70, 71, 72, 73, 74, 75, 76, 77, 78, 79, 80, 81, 82, 83, 84, 85, 86, 87, 88, 89, 90, 91, 92, 93, 94, 95, 96, 97, 98, 99, 100]\n"
     ]
    }
   ],
   "source": [
    "L = []\n",
    "\n",
    "# 1.\n",
    "for i in range(100):\n",
    "    L.append(i + 1)\n",
    "\n",
    "# 2.    \n",
    "L = [i for i in range(1, 101)]\n",
    "\n",
    "print(L)"
   ]
  },
  {
   "cell_type": "markdown",
   "id": "50b9f536",
   "metadata": {},
   "source": [
    "- 중첩리스트"
   ]
  },
  {
   "cell_type": "code",
   "execution_count": 46,
   "id": "5c9720c4",
   "metadata": {},
   "outputs": [
    {
     "name": "stdout",
     "output_type": "stream",
     "text": [
      "[10, 20, 30, 40, 50]\n"
     ]
    }
   ],
   "source": [
    "L = [10, 20, 30, 40, 50]\n",
    "print(L)"
   ]
  },
  {
   "cell_type": "code",
   "execution_count": 68,
   "id": "c3b959e0",
   "metadata": {},
   "outputs": [
    {
     "name": "stdout",
     "output_type": "stream",
     "text": [
      "[10, 20, 30, 40, 50]\n",
      "[100, 400, 900, 1600, 2500]\n"
     ]
    }
   ],
   "source": [
    "L2 = []\n",
    "for i in L:\n",
    "    L2.append(i)\n",
    "print(L2)\n",
    "\n",
    "\n",
    "L3 = []\n",
    "for i in range(len(L)):\n",
    "    L3.append(L[i] * L2[i])\n",
    "print(L3)"
   ]
  },
  {
   "cell_type": "code",
   "execution_count": null,
   "id": "b918fd6a",
   "metadata": {},
   "outputs": [],
   "source": []
  }
 ],
 "metadata": {
  "kernelspec": {
   "display_name": "Python 3",
   "language": "python",
   "name": "python3"
  },
  "language_info": {
   "codemirror_mode": {
    "name": "ipython",
    "version": 3
   },
   "file_extension": ".py",
   "mimetype": "text/x-python",
   "name": "python",
   "nbconvert_exporter": "python",
   "pygments_lexer": "ipython3",
   "version": "3.8.8"
  }
 },
 "nbformat": 4,
 "nbformat_minor": 5
}
